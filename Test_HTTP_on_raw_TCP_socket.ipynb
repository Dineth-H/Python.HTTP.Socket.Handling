{
  "nbformat": 4,
  "nbformat_minor": 0,
  "metadata": {
    "colab": {
      "provenance": []
    },
    "kernelspec": {
      "name": "python3",
      "display_name": "Python 3"
    },
    "language_info": {
      "name": "python"
    }
  },
  "cells": [
    {
      "cell_type": "code",
      "execution_count": null,
      "metadata": {
        "id": "tCYbBweVoOdw"
      },
      "outputs": [],
      "source": [
        "#HTTP using a raw TCP socket\n",
        "import socket\n",
        "\n",
        "#We will obtain a simple html file which is available at http://example.com/\n",
        "#You can check the content by accessing this page in your web browser.\n",
        "\n",
        "port = 80\n",
        "address = 'example.com'\n",
        "\n",
        "BUF_SIZE = 1024\n",
        "\n",
        "# create a socket object name 'con'\n",
        "con = socket.socket(socket.AF_INET, socket.SOCK_STREAM)\n",
        "con.connect((address, port))\n",
        "\n",
        "#HTTP GET request is specific:\n",
        "#1. One space between GET and path, and another one space between path and version\n",
        "#2. \\n newline at the end of first line.\n",
        "#3. Additional headers in subsequent lines.\n",
        "#4. The end of message must be marked with two newline characters\n",
        "#Additional headers can be included. (You can find some options using your browsers Network Monitor tool)\n",
        "message = \"GET / HTTP/1.1\\nHost:example.com\\nConnection:close\\n\\n\"\n",
        "\n",
        "con.send(bytes(message,\"utf-8\"));\n",
        "\n",
        "#Here, we do not retreive the entire file.\n",
        "#We are happy with only first part of the file.\n",
        "\n",
        "#Task 1:\n",
        "#It is an exercise for you to retreive entire file as chunks.\n",
        "#If needed, you can just observe the Content-Length in the Response header,\n",
        "#Then retreive the entier file as suited. (Either expand BUF_SIZE or receive and print as chunks)\n",
        "\n",
        "data = con.recv(BUF_SIZE)\n",
        "con.close()\n",
        "print(data.decode(\"utf-8\"))\n",
        "\n",
        "#Expected output: HTTP/1.1 200 OK with additional headers,\n",
        "#Followed by \\n\\n (Two new lines to mark the end of the header, and then the content)\n",
        "#Content is an html file which begin with \"<!doctype html>\"\n",
        "\n",
        "#Task 2:\n",
        "#Verify / is the same path as /index.html by changing the path\n",
        "\n",
        "#Task 3:\n",
        "#Try receiving non existant file. like /obviously-nonexistant instead of /\n",
        "#You should receive HTTP/1.1 404 Not Found\n",
        "\n",
        "#Task 4:\n",
        "#Try changing the HTTP version to 2 instead of 1.1\n",
        "#You might receive HTTP/1.0 505 HTTP Version Not Supported\n",
        "#This means server is old-style. More modern servers support version 2 which has lot of additional features.\n"
      ]
    }
  ]
}