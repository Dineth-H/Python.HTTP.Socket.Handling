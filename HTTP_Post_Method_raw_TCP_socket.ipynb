{
  "nbformat": 4,
  "nbformat_minor": 0,
  "metadata": {
    "colab": {
      "provenance": []
    },
    "kernelspec": {
      "name": "python3",
      "display_name": "Python 3"
    },
    "language_info": {
      "name": "python"
    }
  },
  "cells": [
    {
      "cell_type": "code",
      "execution_count": null,
      "metadata": {
        "id": "dfA09554ocRC"
      },
      "outputs": [],
      "source": [
        "#HTTP using a raw TCP socket\n",
        "import socket\n",
        "\n",
        "#We will obtain a simple html file which is available at http://example.com/\n",
        "#You can check the content by accessing this page in your web browser.\n",
        "\n",
        "port = 80\n",
        "address = 'example.com'\n",
        "\n",
        "BUF_SIZE = 1024\n",
        "\n",
        "# create a socket object name 'con'\n",
        "con = socket.socket(socket.AF_INET, socket.SOCK_STREAM)\n",
        "con.connect((address, port))\n",
        "\n",
        "#Try post message as well.\n",
        "#Try removing Content-Length-> will give an error message\n",
        "#Try Putting more than avaialble content length: Nothing will load, since the server wait for more pending content\n",
        "# This will work with 200 OK\n",
        "\n",
        "message = \"POST / HTTP/1.1\\nHost:example.com\\nContent-Length:0\\nConnection:close\\n\\n\"\n",
        "\n",
        "con.send(bytes(message,\"utf-8\"));\n",
        "\n",
        "#Here, we do not retreive the entire file.\n",
        "#We are happy with only first part of the file.\n",
        "\n",
        "#Task 1:\n",
        "#It is an exercise for you to retreive entire file as chunks.\n",
        "#If needed, you can just observe the Content-Length in the Response header,\n",
        "#Then retreive the entier file as suited. (Either expand BUF_SIZE or receive and print as chunks)\n",
        "\n",
        "data = con.recv(BUF_SIZE)\n",
        "con.close()\n",
        "print(data.decode(\"utf-8\"))\n",
        "\n"
      ]
    }
  ]
}